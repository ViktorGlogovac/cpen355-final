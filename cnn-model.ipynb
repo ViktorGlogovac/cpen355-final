{
 "cells": [
  {
   "cell_type": "code",
   "execution_count": 1,
   "metadata": {},
   "outputs": [
    {
     "name": "stdout",
     "output_type": "stream",
     "text": [
      "Requirement already satisfied: torch in c:\\users\\vikto\\onedrive\\documents\\vesp\\shot-tracker-ai\\venv\\lib\\site-packages (2.4.1)"
     ]
    },
    {
     "name": "stderr",
     "output_type": "stream",
     "text": [
      "\n",
      "[notice] A new release of pip is available: 23.2.1 -> 24.3.1\n",
      "[notice] To update, run: python.exe -m pip install --upgrade pip\n"
     ]
    },
    {
     "name": "stdout",
     "output_type": "stream",
     "text": [
      "\n",
      "Requirement already satisfied: torchvision in c:\\users\\vikto\\onedrive\\documents\\vesp\\shot-tracker-ai\\venv\\lib\\site-packages (0.19.1)\n",
      "Requirement already satisfied: filelock in c:\\users\\vikto\\onedrive\\documents\\vesp\\shot-tracker-ai\\venv\\lib\\site-packages (from torch) (3.16.1)\n",
      "Requirement already satisfied: typing-extensions>=4.8.0 in c:\\users\\vikto\\onedrive\\documents\\vesp\\shot-tracker-ai\\venv\\lib\\site-packages (from torch) (4.12.2)\n",
      "Requirement already satisfied: sympy in c:\\users\\vikto\\onedrive\\documents\\vesp\\shot-tracker-ai\\venv\\lib\\site-packages (from torch) (1.13.3)\n",
      "Requirement already satisfied: networkx in c:\\users\\vikto\\onedrive\\documents\\vesp\\shot-tracker-ai\\venv\\lib\\site-packages (from torch) (3.3)\n",
      "Requirement already satisfied: jinja2 in c:\\users\\vikto\\onedrive\\documents\\vesp\\shot-tracker-ai\\venv\\lib\\site-packages (from torch) (3.1.4)\n",
      "Requirement already satisfied: fsspec in c:\\users\\vikto\\onedrive\\documents\\vesp\\shot-tracker-ai\\venv\\lib\\site-packages (from torch) (2024.9.0)\n",
      "Requirement already satisfied: setuptools in c:\\users\\vikto\\onedrive\\documents\\vesp\\shot-tracker-ai\\venv\\lib\\site-packages (from torch) (75.1.0)\n",
      "Requirement already satisfied: numpy in c:\\users\\vikto\\onedrive\\documents\\vesp\\shot-tracker-ai\\venv\\lib\\site-packages (from torchvision) (1.26.4)\n",
      "Requirement already satisfied: pillow!=8.3.*,>=5.3.0 in c:\\users\\vikto\\onedrive\\documents\\vesp\\shot-tracker-ai\\venv\\lib\\site-packages (from torchvision) (10.4.0)\n",
      "Requirement already satisfied: MarkupSafe>=2.0 in c:\\users\\vikto\\onedrive\\documents\\vesp\\shot-tracker-ai\\venv\\lib\\site-packages (from jinja2->torch) (2.1.5)\n",
      "Requirement already satisfied: mpmath<1.4,>=1.1.0 in c:\\users\\vikto\\onedrive\\documents\\vesp\\shot-tracker-ai\\venv\\lib\\site-packages (from sympy->torch) (1.3.0)\n",
      "Requirement already satisfied: roboflow in c:\\users\\vikto\\onedrive\\documents\\vesp\\shot-tracker-ai\\venv\\lib\\site-packages (1.1.49)\n",
      "Requirement already satisfied: certifi in c:\\users\\vikto\\onedrive\\documents\\vesp\\shot-tracker-ai\\venv\\lib\\site-packages (from roboflow) (2024.8.30)\n",
      "Requirement already satisfied: idna==3.7 in c:\\users\\vikto\\onedrive\\documents\\vesp\\shot-tracker-ai\\venv\\lib\\site-packages (from roboflow) (3.7)\n",
      "Requirement already satisfied: cycler in c:\\users\\vikto\\onedrive\\documents\\vesp\\shot-tracker-ai\\venv\\lib\\site-packages (from roboflow) (0.12.1)\n",
      "Requirement already satisfied: kiwisolver>=1.3.1 in c:\\users\\vikto\\onedrive\\documents\\vesp\\shot-tracker-ai\\venv\\lib\\site-packages (from roboflow) (1.4.7)\n",
      "Requirement already satisfied: matplotlib in c:\\users\\vikto\\onedrive\\documents\\vesp\\shot-tracker-ai\\venv\\lib\\site-packages (from roboflow) (3.9.2)\n",
      "Requirement already satisfied: numpy>=1.18.5 in c:\\users\\vikto\\onedrive\\documents\\vesp\\shot-tracker-ai\\venv\\lib\\site-packages (from roboflow) (1.26.4)\n",
      "Requirement already satisfied: opencv-python-headless==4.10.0.84 in c:\\users\\vikto\\onedrive\\documents\\vesp\\shot-tracker-ai\\venv\\lib\\site-packages (from roboflow) (4.10.0.84)\n",
      "Requirement already satisfied: Pillow>=7.1.2 in c:\\users\\vikto\\onedrive\\documents\\vesp\\shot-tracker-ai\\venv\\lib\\site-packages (from roboflow) (10.4.0)\n",
      "Requirement already satisfied: python-dateutil in c:\\users\\vikto\\onedrive\\documents\\vesp\\shot-tracker-ai\\venv\\lib\\site-packages (from roboflow) (2.9.0.post0)\n",
      "Requirement already satisfied: python-dotenv in c:\\users\\vikto\\onedrive\\documents\\vesp\\shot-tracker-ai\\venv\\lib\\site-packages (from roboflow) (1.0.1)\n",
      "Requirement already satisfied: requests in c:\\users\\vikto\\onedrive\\documents\\vesp\\shot-tracker-ai\\venv\\lib\\site-packages (from roboflow) (2.32.3)\n",
      "Requirement already satisfied: six in c:\\users\\vikto\\onedrive\\documents\\vesp\\shot-tracker-ai\\venv\\lib\\site-packages (from roboflow) (1.16.0)\n",
      "Requirement already satisfied: urllib3>=1.26.6 in c:\\users\\vikto\\onedrive\\documents\\vesp\\shot-tracker-ai\\venv\\lib\\site-packages (from roboflow) (2.2.3)\n",
      "Requirement already satisfied: tqdm>=4.41.0 in c:\\users\\vikto\\onedrive\\documents\\vesp\\shot-tracker-ai\\venv\\lib\\site-packages (from roboflow) (4.66.5)\n",
      "Requirement already satisfied: PyYAML>=5.3.1 in c:\\users\\vikto\\onedrive\\documents\\vesp\\shot-tracker-ai\\venv\\lib\\site-packages (from roboflow) (6.0.2)\n",
      "Requirement already satisfied: requests-toolbelt in c:\\users\\vikto\\onedrive\\documents\\vesp\\shot-tracker-ai\\venv\\lib\\site-packages (from roboflow) (1.0.0)\n",
      "Requirement already satisfied: filetype in c:\\users\\vikto\\onedrive\\documents\\vesp\\shot-tracker-ai\\venv\\lib\\site-packages (from roboflow) (1.2.0)\n",
      "Requirement already satisfied: colorama in c:\\users\\vikto\\onedrive\\documents\\vesp\\shot-tracker-ai\\venv\\lib\\site-packages (from tqdm>=4.41.0->roboflow) (0.4.6)\n",
      "Requirement already satisfied: contourpy>=1.0.1 in c:\\users\\vikto\\onedrive\\documents\\vesp\\shot-tracker-ai\\venv\\lib\\site-packages (from matplotlib->roboflow) (1.3.0)\n",
      "Requirement already satisfied: fonttools>=4.22.0 in c:\\users\\vikto\\onedrive\\documents\\vesp\\shot-tracker-ai\\venv\\lib\\site-packages (from matplotlib->roboflow) (4.54.1)\n",
      "Requirement already satisfied: packaging>=20.0 in c:\\users\\vikto\\onedrive\\documents\\vesp\\shot-tracker-ai\\venv\\lib\\site-packages (from matplotlib->roboflow) (24.1)\n",
      "Requirement already satisfied: pyparsing>=2.3.1 in c:\\users\\vikto\\onedrive\\documents\\vesp\\shot-tracker-ai\\venv\\lib\\site-packages (from matplotlib->roboflow) (3.1.4)\n",
      "Requirement already satisfied: charset-normalizer<4,>=2 in c:\\users\\vikto\\onedrive\\documents\\vesp\\shot-tracker-ai\\venv\\lib\\site-packages (from requests->roboflow) (3.3.2)\n"
     ]
    },
    {
     "name": "stderr",
     "output_type": "stream",
     "text": [
      "\n",
      "[notice] A new release of pip is available: 23.2.1 -> 24.3.1\n",
      "[notice] To update, run: python.exe -m pip install --upgrade pip\n"
     ]
    },
    {
     "name": "stdout",
     "output_type": "stream",
     "text": [
      "Requirement already satisfied: pycocotools in c:\\users\\vikto\\onedrive\\documents\\vesp\\shot-tracker-ai\\venv\\lib\\site-packages (2.0.8)"
     ]
    },
    {
     "name": "stderr",
     "output_type": "stream",
     "text": [
      "\n",
      "[notice] A new release of pip is available: 23.2.1 -> 24.3.1\n",
      "[notice] To update, run: python.exe -m pip install --upgrade pip\n"
     ]
    },
    {
     "name": "stdout",
     "output_type": "stream",
     "text": [
      "\n",
      "Requirement already satisfied: matplotlib>=2.1.0 in c:\\users\\vikto\\onedrive\\documents\\vesp\\shot-tracker-ai\\venv\\lib\\site-packages (from pycocotools) (3.9.2)\n",
      "Requirement already satisfied: numpy in c:\\users\\vikto\\onedrive\\documents\\vesp\\shot-tracker-ai\\venv\\lib\\site-packages (from pycocotools) (1.26.4)\n",
      "Requirement already satisfied: contourpy>=1.0.1 in c:\\users\\vikto\\onedrive\\documents\\vesp\\shot-tracker-ai\\venv\\lib\\site-packages (from matplotlib>=2.1.0->pycocotools) (1.3.0)\n",
      "Requirement already satisfied: cycler>=0.10 in c:\\users\\vikto\\onedrive\\documents\\vesp\\shot-tracker-ai\\venv\\lib\\site-packages (from matplotlib>=2.1.0->pycocotools) (0.12.1)\n",
      "Requirement already satisfied: fonttools>=4.22.0 in c:\\users\\vikto\\onedrive\\documents\\vesp\\shot-tracker-ai\\venv\\lib\\site-packages (from matplotlib>=2.1.0->pycocotools) (4.54.1)\n",
      "Requirement already satisfied: kiwisolver>=1.3.1 in c:\\users\\vikto\\onedrive\\documents\\vesp\\shot-tracker-ai\\venv\\lib\\site-packages (from matplotlib>=2.1.0->pycocotools) (1.4.7)\n",
      "Requirement already satisfied: packaging>=20.0 in c:\\users\\vikto\\onedrive\\documents\\vesp\\shot-tracker-ai\\venv\\lib\\site-packages (from matplotlib>=2.1.0->pycocotools) (24.1)\n",
      "Requirement already satisfied: pillow>=8 in c:\\users\\vikto\\onedrive\\documents\\vesp\\shot-tracker-ai\\venv\\lib\\site-packages (from matplotlib>=2.1.0->pycocotools) (10.4.0)\n",
      "Requirement already satisfied: pyparsing>=2.3.1 in c:\\users\\vikto\\onedrive\\documents\\vesp\\shot-tracker-ai\\venv\\lib\\site-packages (from matplotlib>=2.1.0->pycocotools) (3.1.4)\n",
      "Requirement already satisfied: python-dateutil>=2.7 in c:\\users\\vikto\\onedrive\\documents\\vesp\\shot-tracker-ai\\venv\\lib\\site-packages (from matplotlib>=2.1.0->pycocotools) (2.9.0.post0)\n",
      "Requirement already satisfied: six>=1.5 in c:\\users\\vikto\\onedrive\\documents\\vesp\\shot-tracker-ai\\venv\\lib\\site-packages (from python-dateutil>=2.7->matplotlib>=2.1.0->pycocotools) (1.16.0)\n"
     ]
    }
   ],
   "source": [
    "# Install PyTorch and Torchvision\n",
    "!pip install torch torchvision\n",
    "\n",
    "# Install Roboflow for dataset download\n",
    "!pip install roboflow\n",
    "\n",
    "# Install pycocotools for handling COCO datasets\n",
    "!pip install pycocotools\n"
   ]
  },
  {
   "cell_type": "code",
   "execution_count": 2,
   "metadata": {},
   "outputs": [],
   "source": [
    "import os\n",
    "import torch\n",
    "import torchvision\n",
    "from torch.utils.data import Dataset, DataLoader\n",
    "from torchvision import transforms as T\n",
    "from torchvision.models.detection import FasterRCNN\n",
    "from torchvision.models import mobilenet_v2\n",
    "from torchvision.ops import MultiScaleRoIAlign\n",
    "from PIL import Image\n",
    "from pycocotools.coco import COCO\n",
    "from roboflow import Roboflow\n",
    "import time\n"
   ]
  },
  {
   "cell_type": "code",
   "execution_count": null,
   "metadata": {},
   "outputs": [
    {
     "name": "stdout",
     "output_type": "stream",
     "text": [
      "loading Roboflow workspace...\n",
      "loading Roboflow project...\n"
     ]
    },
    {
     "name": "stderr",
     "output_type": "stream",
     "text": [
      "Downloading Dataset Version Zip in Basketball-Scorekeeper-2 to coco:: 100%|██████████| 119415/119415 [00:11<00:00, 10508.57it/s]"
     ]
    },
    {
     "name": "stdout",
     "output_type": "stream",
     "text": [
      "\n"
     ]
    },
    {
     "name": "stderr",
     "output_type": "stream",
     "text": [
      "\n",
      "Extracting Dataset Version Zip to Basketball-Scorekeeper-2 in coco:: 100%|██████████| 681/681 [00:00<00:00, 1188.17it/s]\n"
     ]
    }
   ],
   "source": [
    "# Replace 'your_roboflow_api_key' with your actual Roboflow API key\n",
    "rf = Roboflow(api_key=\"upR0TpbLVIlvsGJwoHe5\")\n",
    "project = rf.workspace(\"cpen-355\").project(\"basketball-scorekeeper-uij6y\")\n",
    "version = project.version(2)\n",
    "dataset = version.download(\"coco\")\n"
   ]
  },
  {
   "cell_type": "code",
   "execution_count": 7,
   "metadata": {},
   "outputs": [],
   "source": [
    "data_dir = dataset.location  # Path to the dataset directory\n",
    "train_dir = os.path.join(data_dir, 'train')\n",
    "val_dir = os.path.join(data_dir, 'valid')\n",
    "\n",
    "train_annotations = os.path.join(train_dir, '_annotations.coco.json')\n",
    "val_annotations = os.path.join(val_dir, '_annotations.coco.json')\n"
   ]
  },
  {
   "cell_type": "code",
   "execution_count": 4,
   "metadata": {},
   "outputs": [],
   "source": [
    "class CocoDetectionDataset(Dataset):\n",
    "    def __init__(self, root, annFile, transforms=None):\n",
    "        self.root = root\n",
    "        self.coco = COCO(annFile)\n",
    "        self.ids = list(sorted(self.coco.imgs.keys()))\n",
    "        self.transforms = transforms\n",
    "\n",
    "        # Create a mapping from category IDs to labels starting from 1\n",
    "        self.catid2label = {cat_id: idx + 1 for idx, cat_id in enumerate(sorted(self.coco.getCatIds()))}\n",
    "        self.label2catid = {v: k for k, v in self.catid2label.items()}\n",
    "\n",
    "    def __getitem__(self, index):\n",
    "        # Load image and annotations\n",
    "        coco = self.coco\n",
    "        img_id = self.ids[index]\n",
    "        ann_ids = coco.getAnnIds(imgIds=img_id)\n",
    "        anns = coco.loadAnns(ann_ids)\n",
    "\n",
    "        # Load image\n",
    "        img_info = coco.loadImgs(img_id)[0]\n",
    "        path = img_info['file_name']\n",
    "        img_path = os.path.join(self.root, path)\n",
    "        img = Image.open(img_path).convert('RGB')\n",
    "\n",
    "        # Prepare target\n",
    "        num_objs = len(anns)\n",
    "        boxes = []\n",
    "        labels = []\n",
    "        areas = []\n",
    "        iscrowd = []\n",
    "\n",
    "        for i in range(num_objs):\n",
    "            ann = anns[i]\n",
    "            bbox = ann['bbox']\n",
    "            # COCO format bbox: [x_min, y_min, width, height]\n",
    "            x_min = bbox[0]\n",
    "            y_min = bbox[1]\n",
    "            width = bbox[2]\n",
    "            height = bbox[3]\n",
    "            x_max = x_min + width\n",
    "            y_max = y_min + height\n",
    "            boxes.append([x_min, y_min, x_max, y_max])\n",
    "            labels.append(self.catid2label[ann['category_id']])\n",
    "            areas.append(width * height)\n",
    "            iscrowd.append(ann.get('iscrowd', 0))\n",
    "\n",
    "        # Convert everything into torch tensors\n",
    "        if len(boxes) == 0:\n",
    "            # Handle images without annotations\n",
    "            boxes = torch.zeros((0, 4), dtype=torch.float32)\n",
    "            labels = torch.zeros((0,), dtype=torch.int64)\n",
    "            areas = torch.zeros((0,), dtype=torch.float32)\n",
    "            iscrowd = torch.zeros((0,), dtype=torch.int64)\n",
    "        else:\n",
    "            boxes = torch.as_tensor(boxes, dtype=torch.float32)\n",
    "            labels = torch.as_tensor(labels, dtype=torch.int64)\n",
    "            areas = torch.as_tensor(areas, dtype=torch.float32)\n",
    "            iscrowd = torch.as_tensor(iscrowd, dtype=torch.int64)\n",
    "\n",
    "        image_id = torch.tensor([img_id])\n",
    "\n",
    "        target = {}\n",
    "        target['boxes'] = boxes\n",
    "        target['labels'] = labels\n",
    "        target['area'] = areas\n",
    "        target['iscrowd'] = iscrowd\n",
    "        target['image_id'] = image_id\n",
    "\n",
    "        if self.transforms is not None:\n",
    "            img = self.transforms(img)\n",
    "\n",
    "        return img, target\n",
    "\n",
    "    def __len__(self):\n",
    "        return len(self.ids)\n"
   ]
  },
  {
   "cell_type": "code",
   "execution_count": 5,
   "metadata": {},
   "outputs": [],
   "source": [
    "transform = T.Compose([\n",
    "    T.ToTensor(),\n",
    "    # Add other transforms like normalization, data augmentation, etc., if needed\n",
    "])\n"
   ]
  },
  {
   "cell_type": "code",
   "execution_count": 8,
   "metadata": {},
   "outputs": [
    {
     "name": "stdout",
     "output_type": "stream",
     "text": [
      "loading annotations into memory...\n",
      "Done (t=0.01s)\n",
      "creating index...\n",
      "index created!\n",
      "loading annotations into memory...\n",
      "Done (t=0.00s)\n",
      "creating index...\n",
      "index created!\n"
     ]
    }
   ],
   "source": [
    "# Create datasets\n",
    "train_dataset = CocoDetectionDataset(root=train_dir, annFile=train_annotations, transforms=transform)\n",
    "val_dataset = CocoDetectionDataset(root=val_dir, annFile=val_annotations, transforms=transform)\n",
    "\n",
    "# Define the collate function\n",
    "def collate_fn(batch):\n",
    "    return tuple(zip(*batch))\n",
    "\n",
    "# Create data loaders\n",
    "train_loader = DataLoader(\n",
    "    train_dataset,\n",
    "    batch_size=4,  # Adjust batch size if necessary\n",
    "    shuffle=True,\n",
    "    num_workers=4,  # Adjust based on your environment\n",
    "    collate_fn=collate_fn,\n",
    "    pin_memory=True\n",
    ")\n",
    "\n",
    "val_loader = DataLoader(\n",
    "    val_dataset,\n",
    "    batch_size=4,\n",
    "    shuffle=False,\n",
    "    num_workers=4,\n",
    "    collate_fn=collate_fn,\n",
    "    pin_memory=True\n",
    ")\n"
   ]
  },
  {
   "cell_type": "code",
   "execution_count": 9,
   "metadata": {},
   "outputs": [
    {
     "name": "stderr",
     "output_type": "stream",
     "text": [
      "Downloading: \"https://download.pytorch.org/models/mobilenet_v2-7ebf99e0.pth\" to C:\\Users\\vikto/.cache\\torch\\hub\\checkpoints\\mobilenet_v2-7ebf99e0.pth\n",
      "100%|██████████| 13.6M/13.6M [00:01<00:00, 10.4MB/s]\n"
     ]
    }
   ],
   "source": [
    "import torchvision\n",
    "from torchvision.models.detection import FasterRCNN\n",
    "from torchvision.models import mobilenet_v2\n",
    "from torchvision.ops import MultiScaleRoIAlign\n",
    "\n",
    "# Number of classes (background + your categories)\n",
    "num_classes = len(train_dataset.catid2label) + 1  # +1 for background class\n",
    "\n",
    "# Load a pre-trained MobileNetV2 model and extract the features\n",
    "backbone = mobilenet_v2(weights='DEFAULT').features\n",
    "backbone.out_channels = 1280  # MobileNetV2's last layer output channels\n",
    "\n",
    "# Define the anchor generator with appropriate sizes and aspect ratios\n",
    "anchor_generator = torchvision.models.detection.rpn.AnchorGenerator(\n",
    "    sizes=((32, 64, 128, 256, 512),),\n",
    "    aspect_ratios=((0.5, 1.0, 2.0),)\n",
    ")\n",
    "\n",
    "# Define the RoI pooler\n",
    "roi_pooler = MultiScaleRoIAlign(\n",
    "    featmap_names=['0'],  # The feature map key to use (since MobileNetV2 has a single feature map)\n",
    "    output_size=7,        # Size of the pooled region\n",
    "    sampling_ratio=2\n",
    ")\n",
    "\n",
    "# Create the Faster R-CNN model using the MobileNetV2 backbone\n",
    "model = FasterRCNN(\n",
    "    backbone=backbone,\n",
    "    num_classes=num_classes,\n",
    "    rpn_anchor_generator=anchor_generator,\n",
    "    box_roi_pool=roi_pooler\n",
    ")\n",
    "\n",
    "# Move the model to the appropriate device\n",
    "device = torch.device('cuda') if torch.cuda.is_available() else torch.device('cpu')\n",
    "model.to(device)\n",
    "\n",
    "# Optionally, freeze the backbone layers to reduce training time\n",
    "for param in model.backbone.parameters():\n",
    "    param.requires_grad = False\n"
   ]
  },
  {
   "cell_type": "code",
   "execution_count": 10,
   "metadata": {},
   "outputs": [],
   "source": [
    "# Only include parameters that require gradients\n",
    "params = [p for p in model.parameters() if p.requires_grad]\n",
    "\n",
    "# Define the optimizer\n",
    "optimizer = torch.optim.SGD(params, lr=0.005, momentum=0.9, weight_decay=0.0005)\n",
    "\n",
    "# Define the learning rate scheduler\n",
    "lr_scheduler = torch.optim.lr_scheduler.StepLR(optimizer, step_size=3, gamma=0.1)\n"
   ]
  },
  {
   "cell_type": "code",
   "execution_count": 11,
   "metadata": {},
   "outputs": [
    {
     "name": "stderr",
     "output_type": "stream",
     "text": [
      "`torch.cuda.amp.GradScaler(args...)` is deprecated. Please use `torch.amp.GradScaler('cuda', args...)` instead.\n",
      "torch.cuda.amp.GradScaler is enabled, but CUDA is not available.  Disabling.\n"
     ]
    }
   ],
   "source": [
    "from torch.cuda.amp import autocast, GradScaler\n",
    "\n",
    "# Initialize the GradScaler\n",
    "scaler = GradScaler()\n"
   ]
  },
  {
   "cell_type": "code",
   "execution_count": null,
   "metadata": {},
   "outputs": [],
   "source": [
    "import os\n",
    "import tensorflow as tf\n",
    "from tensorflow.keras.models import Sequential\n",
    "from tensorflow.keras.layers import Conv2D, MaxPooling2D, Flatten, Dense, Dropout\n",
    "from tensorflow.keras.preprocessing.image import ImageDataGenerator\n",
    "import json\n",
    "from sklearn.model_selection import train_test_split\n",
    "import shutil\n",
    "import glob\n",
    "import numpy as np\n",
    "from PIL import Image\n",
    "\n",
    "# Paths\n",
    "dataset_path = \"basketball-scorekeeper-uij6y\"  # Path to the downloaded dataset\n",
    "annotations_file = os.path.join(dataset_path, \"annotations.json\")\n",
    "images_path = os.path.join(dataset_path, \"images\")\n",
    "\n",
    "# Parameters\n",
    "input_shape = (128, 128, 3)  # Resize images to 128x128 with 3 channels\n",
    "batch_size = 32\n",
    "epochs = 10\n",
    "num_classes = 2  # Assuming two classes: 'score' and 'no-score'\n",
    "\n",
    "# Step 1: Load COCO Annotations\n",
    "def load_coco_annotations(annotations_file, images_path):\n",
    "    with open(annotations_file, 'r') as f:\n",
    "        annotations = json.load(f)\n",
    "    \n",
    "    images = {}\n",
    "    for img in annotations['images']:\n",
    "        images[img['id']] = os.path.join(images_path, img['file_name'])\n",
    "    \n",
    "    labels = {}\n",
    "    for annotation in annotations['annotations']:\n",
    "        image_id = annotation['image_id']\n",
    "        category_id = annotation['category_id']\n",
    "        if image_id not in labels:\n",
    "            labels[image_id] = []\n",
    "        labels[image_id].append(category_id)\n",
    "    \n",
    "    return images, labels\n",
    "\n",
    "# Step 2: Prepare Data\n",
    "def prepare_data(images, labels):\n",
    "    X, y = [], []\n",
    "    for image_id, image_path in images.items():\n",
    "        if image_id in labels:\n",
    "            img = Image.open(image_path).resize(input_shape[:2])\n",
    "            X.append(np.array(img))\n",
    "            y.append(labels[image_id][0])  # Assuming single label per image for simplicity\n",
    "    \n",
    "    X = np.array(X) / 255.0  # Normalize to [0, 1]\n",
    "    y = tf.keras.utils.to_categorical(y, num_classes=num_classes)\n",
    "    return X, y\n",
    "\n",
    "images, labels = load_coco_annotations(annotations_file, images_path)\n",
    "X, y = prepare_data(images, labels)\n",
    "\n",
    "# Step 3: Split Data\n",
    "X_train, X_test, y_train, y_test = train_test_split(X, y, test_size=0.2, random_state=42)\n",
    "\n",
    "# Step 4: Build the CNN Model\n",
    "model = Sequential([\n",
    "    Conv2D(32, (3, 3), activation='relu', input_shape=input_shape),\n",
    "    MaxPooling2D((2, 2)),\n",
    "    Conv2D(64, (3, 3), activation='relu'),\n",
    "    MaxPooling2D((2, 2)),\n",
    "    Conv2D(128, (3, 3), activation='relu'),\n",
    "    MaxPooling2D((2, 2)),\n",
    "    Flatten(),\n",
    "    Dense(128, activation='relu'),\n",
    "    Dropout(0.5),\n",
    "    Dense(num_classes, activation='softmax')\n",
    "])\n",
    "\n",
    "# Step 5: Compile the Model\n",
    "model.compile(optimizer='adam',\n",
    "              loss='categorical_crossentropy',\n",
    "              metrics=['accuracy'])\n",
    "\n",
    "# Step 6: Train the Model\n",
    "history = model.fit(\n",
    "    X_train, y_train,\n",
    "    validation_data=(X_test, y_test),\n",
    "    epochs=epochs,\n",
    "    batch_size=batch_size\n",
    ")\n",
    "\n",
    "# Step 7: Evaluate the Model\n",
    "test_loss, test_accuracy = model.evaluate(X_test, y_test, verbose=2)\n",
    "print(f\"Test Accuracy: {test_accuracy:.2f}\")\n",
    "\n",
    "# Step 8: Save the Model\n",
    "model.save(\"basketball_scorekeeper_model.h5\")\n"
   ]
  }
 ],
 "metadata": {
  "kernelspec": {
   "display_name": "venv",
   "language": "python",
   "name": "python3"
  },
  "language_info": {
   "codemirror_mode": {
    "name": "ipython",
    "version": 3
   },
   "file_extension": ".py",
   "mimetype": "text/x-python",
   "name": "python",
   "nbconvert_exporter": "python",
   "pygments_lexer": "ipython3",
   "version": "3.12.1"
  }
 },
 "nbformat": 4,
 "nbformat_minor": 2
}
